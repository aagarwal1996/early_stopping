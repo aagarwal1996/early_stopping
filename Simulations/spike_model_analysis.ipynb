{
 "cells": [
  {
   "cell_type": "code",
   "execution_count": 22,
   "id": "53453c38-15a9-456b-a866-251c8f304912",
   "metadata": {},
   "outputs": [
    {
     "name": "stdout",
     "output_type": "stream",
     "text": [
      "The autoreload extension is already loaded. To reload it, use:\n",
      "  %reload_ext autoreload\n"
     ]
    }
   ],
   "source": [
    "%load_ext autoreload\n",
    "%autoreload 2\n",
    "import os\n",
    "import pickle as pkl\n",
    "from os.path import join as oj\n",
    "\n",
    "import matplotlib as mpl\n",
    "import matplotlib.pyplot as plt\n",
    "from math import ceil\n",
    "from tqdm import tqdm\n",
    "import numpy as np\n",
    "import matplotlib.patches as patches\n",
    "import sys\n",
    "from math import log\n",
    "from collections import defaultdict\n",
    "import pickle as pkl"
   ]
  },
  {
   "cell_type": "code",
   "execution_count": 23,
   "id": "2bfefdcd-4b3a-4f94-ad96-88fadab17da6",
   "metadata": {},
   "outputs": [
    {
     "name": "stdout",
     "output_type": "stream",
     "text": [
      "scores_10.pkl scores_2.pkl  scores_4.pkl  scores_6.pkl  scores_8.pkl\n"
     ]
    }
   ],
   "source": [
    "out_dir = 'results/spike'\n",
    "prop_cycle = plt.rcParams['axes.prop_cycle']\n",
    "colors = prop_cycle.by_key()['color']\n",
    "!ls {out_dir}\n"
   ]
  },
  {
   "cell_type": "code",
   "execution_count": 24,
   "id": "4ee5b176-2c79-413d-8d63-3c4745c5a959",
   "metadata": {},
   "outputs": [],
   "source": [
    "(scores, error_bar,num_train,sparsity) = pkl.load(open(oj(out_dir, 'scores_10.pkl'), 'rb'))\n",
    "#best_fits = defaultdict(list)\n",
    "#for k in scores.keys():\n",
    "#    for i in range(len(sparsity)):\n",
    "#        best_fits[k].append(get_best_fit_line(np.log(n_train), np.log(scores[k][i])))"
   ]
  },
  {
   "cell_type": "code",
   "execution_count": null,
   "id": "2958706b-d8f7-412b-9680-d454f68c4d1a",
   "metadata": {},
   "outputs": [],
   "source": []
  }
 ],
 "metadata": {
  "kernelspec": {
   "display_name": "Python 3",
   "language": "python",
   "name": "python3"
  },
  "language_info": {
   "codemirror_mode": {
    "name": "ipython",
    "version": 3
   },
   "file_extension": ".py",
   "mimetype": "text/x-python",
   "name": "python",
   "nbconvert_exporter": "python",
   "pygments_lexer": "ipython3",
   "version": "3.9.2"
  }
 },
 "nbformat": 4,
 "nbformat_minor": 5
}
